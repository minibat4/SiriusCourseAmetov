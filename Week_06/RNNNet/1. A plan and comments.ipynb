{
 "cells": [
  {
   "cell_type": "code",
   "execution_count": 1,
   "metadata": {},
   "outputs": [],
   "source": [
    "import numpy as np\n",
    "import _pickle as cPickle\n",
    "import pandas as pd"
   ]
  },
  {
   "cell_type": "markdown",
   "metadata": {
    "pycharm": {
     "name": "#%% md\n"
    }
   },
   "source": [
    "# 1. A plan and comments.\n",
    "\n",
    "The first part of the feature engineering is about checking sets similarity in order to rely on train\n",
    "data diversity. In the situation when a test data is received from the teacher 'as is' and without any labels, the analysis seems to be vital, because headers may divide the data with some tricks. This stage has to include at least a surface analysis of each feature, mean and std comparison of numerical features for different sets and categorical values frequency comparison similarly.\n",
    "When a large dataset is divided by a developer on his own, he may rely on that the data is diverse enough and each set represents a data manifold good.\n",
    "\n",
    "The second part of the feature engineering is more about insights from data, EDA.\n",
    "\n",
    "Due to the insider information, most of the columns are not required at all.\n",
    "The task is more about an RNN building, training and testing."
   ]
  },
  {
   "cell_type": "markdown",
   "source": [
    "### 1.1. Load a raw data. Check an amount of lines in different sets of the date."
   ],
   "metadata": {
    "collapsed": false
   }
  },
  {
   "cell_type": "code",
   "execution_count": null,
   "outputs": [],
   "source": [
    "with open('../data/transactions_train_valid_test_splits.pickle', 'rb') as f:\n",
    "    data = cPickle.load(f)\n",
    "train_data = data['train']\n",
    "valid_data = data['valid']\n",
    "test_data = data['test']"
   ],
   "metadata": {
    "collapsed": false,
    "pycharm": {
     "name": "#%%\n"
    }
   }
  },
  {
   "cell_type": "code",
   "execution_count": 3,
   "metadata": {
    "pycharm": {
     "name": "#%%\n"
    }
   },
   "outputs": [
    {
     "name": "stdout",
     "output_type": "stream",
     "text": [
      "train 17397216 = 0.71%\n",
      "valid  3412698 = 0.14%\n",
      "test   3576986 = 0.15%\n"
     ]
    }
   ],
   "source": [
    "t1 = [len(train_data), len(valid_data), len(test_data)]\n",
    "total = np.sum(t1)\n",
    "print(f'train {len(train_data):>8} = {len(train_data) / total:.02f}%')\n",
    "print(f'valid {len(valid_data):>8} = {len(valid_data) / total:.02f}%')\n",
    "print(f'test  {len(test_data):>8} = {len(test_data) / total:.02f}%')"
   ]
  },
  {
   "cell_type": "markdown",
   "metadata": {
    "pycharm": {
     "name": "#%% md\n"
    }
   },
   "source": [
    "### 1.2. Check columns dtypes, define numerical and categorical."
   ]
  },
  {
   "cell_type": "code",
   "execution_count": 4,
   "metadata": {
    "pycharm": {
     "name": "#%%\n"
    }
   },
   "outputs": [
    {
     "name": "stdout",
     "output_type": "stream",
     "text": [
      "******************************\n",
      "Column                 User: total unique   1400, random examples:\n",
      "[ 432 1866  535 1077 1507 1762 1186 1072  587  305]\n",
      "******************************\n",
      "Column                 Card: total unique      9, random examples:\n",
      "[4 5 8 6 7 2 3 1 0]\n",
      "******************************\n",
      "Column                 Year: total unique     30, random examples:\n",
      "[1997 2008 2007 2000 2010 2020 2009 2011 2013 1993]\n",
      "******************************\n",
      "Column                Month: total unique     12, random examples:\n",
      "[11  5 12  7  4  9  3 10  1  2]\n",
      "******************************\n",
      "Column                  Day: total unique     31, random examples:\n",
      "[14  3 26 13 29  1 28  4 22 11]\n",
      "******************************\n",
      "Column                 Time: total unique   1440, random examples:\n",
      "['08:58' '08:54' '13:49' '02:49' '05:11' '11:52' '18:46' '00:09' '09:51'\n",
      " '04:27']\n",
      "******************************\n",
      "Column               Amount: total unique  88600, random examples:\n",
      "['$38.36' '$606.23' '$785.59' '$53.56' '$279.20' '$310.07' '$-365.00'\n",
      " '$417.16' '$915.79' '$90.20']\n",
      "******************************\n",
      "Column             Use Chip: total unique      3, random examples:\n",
      "['Chip Transaction' 'Swipe Transaction' 'Online Transaction']\n",
      "******************************\n",
      "Column        Merchant Name: total unique  82349, random examples:\n",
      "[-1374963932059744390  3079714313108203546  6015002990428001836\n",
      " -2104537241783854662  8423689785915688014  3552815712642634162\n",
      "  1223613343744715146  1439409109785613676 -8835226421196077512\n",
      " -8136065568515325801]\n",
      "******************************\n",
      "Column        Merchant City: total unique  12907, random examples:\n",
      "['Tylertown' 'Ross' 'Wilkesboro' 'Montgomery Village' 'Sandy Lake'\n",
      " 'State College' 'Statesboro' 'Landrum' 'Pegram' 'Doyline']\n",
      "******************************\n",
      "Column       Merchant State: total unique    221, random examples:\n",
      "['Croatia' 'Panama' 'TN' 'Sri Lanka' 'MA' 'Costa Rica' 'OH' 'Malawi' 'FL'\n",
      " 'Saint Lucia']\n",
      "******************************\n",
      "Column                  Zip: total unique  26122, random examples:\n",
      "[38462. 94957. 33063. 19027. 47868. 57103. 19038. 81435.  2468. 56579.]\n",
      "******************************\n",
      "Column                  MCC: total unique    109, random examples:\n",
      "[3393 5094 8062 6300 7922 5712 4784 3780 5192 4722]\n",
      "******************************\n",
      "Column              Errors?: total unique     24, random examples:\n",
      "['Insufficient Balance,Technical Glitch,'\n",
      " 'Bad Card Number,Technical Glitch,' 'Bad Card Number,Bad CVV,' 'Bad PIN,'\n",
      " 'Bad Card Number,Bad Expiration,'\n",
      " 'Bad Card Number,Bad Expiration,Insufficient Balance,' 'Bad CVV,'\n",
      " 'Bad Zipcode,Technical Glitch,' 'Bad PIN,Insufficient Balance,'\n",
      " 'Bad Card Number,Bad Expiration,Technical Glitch,']\n",
      "******************************\n",
      "Column            Is Fraud?: total unique      2, random examples:\n",
      "['No' 'Yes']\n",
      "******************************\n",
      "Column       IsFraud_target: total unique      2, random examples:\n",
      "[0 1]\n"
     ]
    }
   ],
   "source": [
    "for column in train_data.columns:\n",
    "    unique = train_data[column].unique()\n",
    "    print('*' * 30)\n",
    "    print(f'Column {column:>20}: total unique {len(unique):6}, random examples:')\n",
    "    print(np.random.choice(unique, size=min(len(unique), 10), replace=False))\n"
   ]
  },
  {
   "cell_type": "markdown",
   "metadata": {},
   "source": [
    "### 1.3. Check amount of unique users in each set, their intersection."
   ]
  },
  {
   "cell_type": "code",
   "execution_count": 5,
   "metadata": {
    "pycharm": {
     "name": "#%%\n"
    }
   },
   "outputs": [
    {
     "name": "stdout",
     "output_type": "stream",
     "text": [
      "train     1400 = 0.70%\n",
      "valid      300 = 0.15%\n",
      "test       300 = 0.15%\n",
      "Check intersection\n",
      "train vs valid []\n",
      "train vs test  []\n",
      "valid vs test  []\n"
     ]
    }
   ],
   "source": [
    "t1 = [len(train_data['User'].unique()), len(valid_data['User'].unique()), len(test_data['User'].unique())]\n",
    "total = np.sum(t1)\n",
    "print(f'train {t1[0]:>8} = {t1[0] / total:.02f}%')\n",
    "print(f'valid {t1[1]:>8} = {t1[1] / total:.02f}%')\n",
    "print(f'test  {t1[2]:>8} = {t1[2] / total:.02f}%')\n",
    "\n",
    "print('Check intersection')\n",
    "print('train vs valid', np.intersect1d(train_data['User'].unique(), valid_data['User'].unique()))\n",
    "print('train vs test ', np.intersect1d(train_data['User'].unique(), test_data['User'].unique()))\n",
    "print('valid vs test ', np.intersect1d(valid_data['User'].unique(), test_data['User'].unique()))"
   ]
  },
  {
   "cell_type": "markdown",
   "metadata": {
    "pycharm": {
     "name": "#%% md\n"
    }
   },
   "source": [
    "### 1.4. Delete excessive columns."
   ]
  },
  {
   "cell_type": "code",
   "execution_count": 6,
   "metadata": {
    "pycharm": {
     "name": "#%%\n"
    }
   },
   "outputs": [],
   "source": [
    "columns_to_drop = ['Card', 'Use Chip', 'Merchant Name', 'Merchant City', 'Merchant State',\n",
    "                   'Zip', 'MCC', 'Errors?', 'Is Fraud?']\n",
    "train_data = train_data.drop(columns_to_drop, axis=1)\n",
    "valid_data = valid_data.drop(columns_to_drop, axis=1)\n",
    "test_data = test_data.drop(columns_to_drop, axis=1)"
   ]
  },
  {
   "cell_type": "markdown",
   "source": [
    "### 1.5. Drop index."
   ],
   "metadata": {
    "collapsed": false,
    "pycharm": {
     "name": "#%% md\n"
    }
   }
  },
  {
   "cell_type": "code",
   "execution_count": 7,
   "outputs": [],
   "source": [
    "train_data.reset_index(drop=True, inplace=True)\n",
    "valid_data.reset_index(drop=True, inplace=True)\n",
    "test_data.reset_index(drop=True, inplace=True)"
   ],
   "metadata": {
    "collapsed": false,
    "pycharm": {
     "name": "#%%\n"
    }
   }
  },
  {
   "cell_type": "markdown",
   "source": [
    "### 1.6. Remove the $ sign in the 'Amount' column, convert to the float dtype."
   ],
   "metadata": {
    "collapsed": false,
    "pycharm": {
     "name": "#%% md\n"
    }
   }
  },
  {
   "cell_type": "code",
   "execution_count": 8,
   "outputs": [],
   "source": [
    "# train\n",
    "train_data['Amount'] = [x[1:] for x in train_data['Amount']]\n",
    "train_data['Amount'] = pd.to_numeric(train_data['Amount'], downcast='float')\n",
    "# valid\n",
    "valid_data['Amount'] = [x[1:] for x in valid_data['Amount']]\n",
    "valid_data['Amount'] = pd.to_numeric(valid_data['Amount'], downcast='float')\n",
    "# test\n",
    "test_data['Amount'] = [x[1:] for x in test_data['Amount']]\n",
    "test_data['Amount'] = pd.to_numeric(test_data['Amount'], downcast='float')"
   ],
   "metadata": {
    "collapsed": false,
    "pycharm": {
     "name": "#%%\n"
    }
   }
  },
  {
   "cell_type": "markdown",
   "source": [
    "### 1.7. Convert dtypes for other columns."
   ],
   "metadata": {
    "collapsed": false,
    "pycharm": {
     "name": "#%% md\n"
    }
   }
  },
  {
   "cell_type": "code",
   "execution_count": 9,
   "outputs": [],
   "source": [
    "# train\n",
    "train_data['User'] = train_data['User'].astype('int32')\n",
    "train_data['IsFraud_target'] = train_data['IsFraud_target'].astype('bool')\n",
    "# valid\n",
    "valid_data['User'] = valid_data['User'].astype('int32')\n",
    "valid_data['IsFraud_target'] = valid_data['IsFraud_target'].astype('bool')\n",
    "# test\n",
    "test_data['User'] = test_data['User'].astype('int32')\n",
    "test_data['IsFraud_target'] = test_data['IsFraud_target'].astype('bool')"
   ],
   "metadata": {
    "collapsed": false,
    "pycharm": {
     "name": "#%%\n"
    }
   }
  },
  {
   "cell_type": "markdown",
   "source": [
    "### 1.8. Join columns related to date and time into a single one.\n",
    "\n",
    "It is not clear how to feed the data with regard to the datetime.\n",
    " 1. Since payments frequency is undefined for an every user, aggregation may be performed, but it\n",
    " may hide the anomaly and reduce the probability to predict a correct answer.\n",
    " 2. Use timestamp only for an order, pad from the left up to the max length of a sequence.\n"
   ],
   "metadata": {
    "collapsed": false
   }
  },
  {
   "cell_type": "code",
   "execution_count": 10,
   "outputs": [],
   "source": [
    "columns_datetime = ['Year', 'Month', 'Day', 'Time']\n",
    "\n",
    "\n",
    "def concat(df):\n",
    "    concat_lambda = lambda w, x, y, z: str(w) + '-' + str(x) + '-' + str(y) + '-' + str(z)\n",
    "    col = [concat_lambda(w, x, y, z) for w, x, y, z in zip(df['Year'], df['Month'], df['Day'], df['Time'])]\n",
    "    return col\n",
    "\n",
    "\n",
    "train_data['Datetime'] = concat(train_data)\n",
    "train_data = train_data.drop(columns_datetime, axis=1)\n",
    "train_data['Datetime'] = pd.to_datetime(train_data['Datetime'], format=\"%Y-%m-%d-%H:%M\")\n",
    "\n",
    "valid_data['Datetime'] = concat(valid_data)\n",
    "valid_data = valid_data.drop(columns_datetime, axis=1)\n",
    "valid_data['Datetime'] = pd.to_datetime(valid_data['Datetime'], format=\"%Y-%m-%d-%H:%M\")\n",
    "\n",
    "test_data['Datetime'] = concat(test_data)\n",
    "test_data = test_data.drop(columns_datetime, axis=1)\n",
    "test_data['Datetime'] = pd.to_datetime(test_data['Datetime'], format=\"%Y-%m-%d-%H:%M\")\n"
   ],
   "metadata": {
    "collapsed": false,
    "pycharm": {
     "name": "#%%\n"
    }
   }
  },
  {
   "cell_type": "markdown",
   "source": [
    "### 1.9. Save new data to reopen it instead of the raw data."
   ],
   "metadata": {
    "collapsed": false,
    "pycharm": {
     "name": "#%% md\n"
    }
   }
  },
  {
   "cell_type": "code",
   "execution_count": 11,
   "outputs": [],
   "source": [
    "data = {'train': train_data, 'valid': valid_data, 'test': test_data}\n",
    "with open('transactions_train_valid_test_splits_postprocessed.pickle', 'wb') as f:\n",
    "    cPickle.dump(data, f)\n",
    "del train_data\n",
    "del valid_data\n",
    "del test_data"
   ],
   "metadata": {
    "collapsed": false,
    "pycharm": {
     "name": "#%%\n"
    }
   }
  },
  {
   "cell_type": "markdown",
   "source": [
    "### 1.10. Reopen and check if everything is OK. Close the notebook."
   ],
   "metadata": {
    "collapsed": false,
    "pycharm": {
     "name": "#%% md\n"
    }
   }
  },
  {
   "cell_type": "code",
   "execution_count": 12,
   "outputs": [],
   "source": [
    "with open('transactions_train_valid_test_splits_postprocessed.pickle', 'rb') as f:\n",
    "    data = cPickle.load(f)\n",
    "train_data = data['train']\n",
    "valid_data = data['valid']\n",
    "test_data = data['test']"
   ],
   "metadata": {
    "collapsed": false,
    "pycharm": {
     "name": "#%%\n"
    }
   }
  },
  {
   "cell_type": "code",
   "execution_count": 13,
   "outputs": [
    {
     "name": "stdout",
     "output_type": "stream",
     "text": [
      "train\n",
      "User                       int32\n",
      "Amount                   float32\n",
      "IsFraud_target              bool\n",
      "Datetime          datetime64[ns]\n",
      "dtype: object\n"
     ]
    },
    {
     "data": {
      "text/plain": "          User      Amount  IsFraud_target            Datetime\n0            0  134.089996            True 2002-09-01 06:21:00\n1            0   38.480000            True 2002-09-01 06:42:00\n2            0  120.339996            True 2002-09-02 06:22:00\n3            0  128.949997            True 2002-09-02 17:45:00\n4            0  104.709999            True 2002-09-03 06:23:00\n...        ...         ...             ...                 ...\n17397211  1999  -54.000000           False 2020-02-27 22:23:00\n17397212  1999   54.000000           False 2020-02-27 22:24:00\n17397213  1999   59.150002           False 2020-02-28 07:43:00\n17397214  1999   43.119999           False 2020-02-28 20:10:00\n17397215  1999   45.130001           False 2020-02-28 23:10:00\n\n[17397216 rows x 4 columns]",
      "text/html": "<div>\n<style scoped>\n    .dataframe tbody tr th:only-of-type {\n        vertical-align: middle;\n    }\n\n    .dataframe tbody tr th {\n        vertical-align: top;\n    }\n\n    .dataframe thead th {\n        text-align: right;\n    }\n</style>\n<table border=\"1\" class=\"dataframe\">\n  <thead>\n    <tr style=\"text-align: right;\">\n      <th></th>\n      <th>User</th>\n      <th>Amount</th>\n      <th>IsFraud_target</th>\n      <th>Datetime</th>\n    </tr>\n  </thead>\n  <tbody>\n    <tr>\n      <th>0</th>\n      <td>0</td>\n      <td>134.089996</td>\n      <td>True</td>\n      <td>2002-09-01 06:21:00</td>\n    </tr>\n    <tr>\n      <th>1</th>\n      <td>0</td>\n      <td>38.480000</td>\n      <td>True</td>\n      <td>2002-09-01 06:42:00</td>\n    </tr>\n    <tr>\n      <th>2</th>\n      <td>0</td>\n      <td>120.339996</td>\n      <td>True</td>\n      <td>2002-09-02 06:22:00</td>\n    </tr>\n    <tr>\n      <th>3</th>\n      <td>0</td>\n      <td>128.949997</td>\n      <td>True</td>\n      <td>2002-09-02 17:45:00</td>\n    </tr>\n    <tr>\n      <th>4</th>\n      <td>0</td>\n      <td>104.709999</td>\n      <td>True</td>\n      <td>2002-09-03 06:23:00</td>\n    </tr>\n    <tr>\n      <th>...</th>\n      <td>...</td>\n      <td>...</td>\n      <td>...</td>\n      <td>...</td>\n    </tr>\n    <tr>\n      <th>17397211</th>\n      <td>1999</td>\n      <td>-54.000000</td>\n      <td>False</td>\n      <td>2020-02-27 22:23:00</td>\n    </tr>\n    <tr>\n      <th>17397212</th>\n      <td>1999</td>\n      <td>54.000000</td>\n      <td>False</td>\n      <td>2020-02-27 22:24:00</td>\n    </tr>\n    <tr>\n      <th>17397213</th>\n      <td>1999</td>\n      <td>59.150002</td>\n      <td>False</td>\n      <td>2020-02-28 07:43:00</td>\n    </tr>\n    <tr>\n      <th>17397214</th>\n      <td>1999</td>\n      <td>43.119999</td>\n      <td>False</td>\n      <td>2020-02-28 20:10:00</td>\n    </tr>\n    <tr>\n      <th>17397215</th>\n      <td>1999</td>\n      <td>45.130001</td>\n      <td>False</td>\n      <td>2020-02-28 23:10:00</td>\n    </tr>\n  </tbody>\n</table>\n<p>17397216 rows × 4 columns</p>\n</div>"
     },
     "execution_count": 13,
     "metadata": {},
     "output_type": "execute_result"
    }
   ],
   "source": [
    "print('train')\n",
    "print(train_data.dtypes)\n",
    "train_data"
   ],
   "metadata": {
    "collapsed": false,
    "pycharm": {
     "name": "#%%\n"
    }
   }
  },
  {
   "cell_type": "code",
   "execution_count": 14,
   "outputs": [
    {
     "name": "stdout",
     "output_type": "stream",
     "text": [
      "valid\n",
      "User                       int32\n",
      "Amount                   float32\n",
      "IsFraud_target              bool\n",
      "Datetime          datetime64[ns]\n",
      "dtype: object\n"
     ]
    },
    {
     "data": {
      "text/plain": "         User       Amount  IsFraud_target            Datetime\n0           4  1300.729980           False 1999-11-26 15:03:00\n1           4   106.610001           False 1999-12-01 09:20:00\n2           4    16.520000           False 1999-12-01 09:33:00\n3           4     9.930000           False 1999-12-01 12:55:00\n4           4    81.360001           False 1999-12-01 15:27:00\n...       ...          ...             ...                 ...\n3412693  1992    62.000000           False 2020-02-28 06:55:00\n3412694  1992   -78.000000           False 2020-02-28 07:08:00\n3412695  1992    78.000000           False 2020-02-28 07:15:00\n3412696  1992     9.740000           False 2020-02-28 07:27:00\n3412697  1992   202.940002           False 2020-02-28 14:14:00\n\n[3412698 rows x 4 columns]",
      "text/html": "<div>\n<style scoped>\n    .dataframe tbody tr th:only-of-type {\n        vertical-align: middle;\n    }\n\n    .dataframe tbody tr th {\n        vertical-align: top;\n    }\n\n    .dataframe thead th {\n        text-align: right;\n    }\n</style>\n<table border=\"1\" class=\"dataframe\">\n  <thead>\n    <tr style=\"text-align: right;\">\n      <th></th>\n      <th>User</th>\n      <th>Amount</th>\n      <th>IsFraud_target</th>\n      <th>Datetime</th>\n    </tr>\n  </thead>\n  <tbody>\n    <tr>\n      <th>0</th>\n      <td>4</td>\n      <td>1300.729980</td>\n      <td>False</td>\n      <td>1999-11-26 15:03:00</td>\n    </tr>\n    <tr>\n      <th>1</th>\n      <td>4</td>\n      <td>106.610001</td>\n      <td>False</td>\n      <td>1999-12-01 09:20:00</td>\n    </tr>\n    <tr>\n      <th>2</th>\n      <td>4</td>\n      <td>16.520000</td>\n      <td>False</td>\n      <td>1999-12-01 09:33:00</td>\n    </tr>\n    <tr>\n      <th>3</th>\n      <td>4</td>\n      <td>9.930000</td>\n      <td>False</td>\n      <td>1999-12-01 12:55:00</td>\n    </tr>\n    <tr>\n      <th>4</th>\n      <td>4</td>\n      <td>81.360001</td>\n      <td>False</td>\n      <td>1999-12-01 15:27:00</td>\n    </tr>\n    <tr>\n      <th>...</th>\n      <td>...</td>\n      <td>...</td>\n      <td>...</td>\n      <td>...</td>\n    </tr>\n    <tr>\n      <th>3412693</th>\n      <td>1992</td>\n      <td>62.000000</td>\n      <td>False</td>\n      <td>2020-02-28 06:55:00</td>\n    </tr>\n    <tr>\n      <th>3412694</th>\n      <td>1992</td>\n      <td>-78.000000</td>\n      <td>False</td>\n      <td>2020-02-28 07:08:00</td>\n    </tr>\n    <tr>\n      <th>3412695</th>\n      <td>1992</td>\n      <td>78.000000</td>\n      <td>False</td>\n      <td>2020-02-28 07:15:00</td>\n    </tr>\n    <tr>\n      <th>3412696</th>\n      <td>1992</td>\n      <td>9.740000</td>\n      <td>False</td>\n      <td>2020-02-28 07:27:00</td>\n    </tr>\n    <tr>\n      <th>3412697</th>\n      <td>1992</td>\n      <td>202.940002</td>\n      <td>False</td>\n      <td>2020-02-28 14:14:00</td>\n    </tr>\n  </tbody>\n</table>\n<p>3412698 rows × 4 columns</p>\n</div>"
     },
     "execution_count": 14,
     "metadata": {},
     "output_type": "execute_result"
    }
   ],
   "source": [
    "print('valid')\n",
    "print(valid_data.dtypes)\n",
    "valid_data"
   ],
   "metadata": {
    "collapsed": false,
    "pycharm": {
     "name": "#%%\n"
    }
   }
  },
  {
   "cell_type": "code",
   "execution_count": 15,
   "outputs": [
    {
     "name": "stdout",
     "output_type": "stream",
     "text": [
      "test\n",
      "User                       int32\n",
      "Amount                   float32\n",
      "IsFraud_target              bool\n",
      "Datetime          datetime64[ns]\n",
      "dtype: object\n"
     ]
    },
    {
     "data": {
      "text/plain": "         User      Amount  IsFraud_target            Datetime\n0           5   45.610001           False 2002-01-01 12:24:00\n1           5   40.000000           False 2002-01-01 16:47:00\n2           5  108.529999           False 2002-01-01 17:40:00\n3           5   26.160000           False 2002-01-01 21:59:00\n4           5   60.000000           False 2002-01-02 16:05:00\n...       ...         ...             ...                 ...\n3576981  1973   17.469999           False 2020-02-27 08:34:00\n3576982  1973   17.320000           False 2020-02-27 09:19:00\n3576983  1973   18.870001           False 2020-02-28 02:37:00\n3576984  1973    3.680000           False 2020-02-28 06:25:00\n3576985  1973   18.790001           False 2020-02-28 20:39:00\n\n[3576986 rows x 4 columns]",
      "text/html": "<div>\n<style scoped>\n    .dataframe tbody tr th:only-of-type {\n        vertical-align: middle;\n    }\n\n    .dataframe tbody tr th {\n        vertical-align: top;\n    }\n\n    .dataframe thead th {\n        text-align: right;\n    }\n</style>\n<table border=\"1\" class=\"dataframe\">\n  <thead>\n    <tr style=\"text-align: right;\">\n      <th></th>\n      <th>User</th>\n      <th>Amount</th>\n      <th>IsFraud_target</th>\n      <th>Datetime</th>\n    </tr>\n  </thead>\n  <tbody>\n    <tr>\n      <th>0</th>\n      <td>5</td>\n      <td>45.610001</td>\n      <td>False</td>\n      <td>2002-01-01 12:24:00</td>\n    </tr>\n    <tr>\n      <th>1</th>\n      <td>5</td>\n      <td>40.000000</td>\n      <td>False</td>\n      <td>2002-01-01 16:47:00</td>\n    </tr>\n    <tr>\n      <th>2</th>\n      <td>5</td>\n      <td>108.529999</td>\n      <td>False</td>\n      <td>2002-01-01 17:40:00</td>\n    </tr>\n    <tr>\n      <th>3</th>\n      <td>5</td>\n      <td>26.160000</td>\n      <td>False</td>\n      <td>2002-01-01 21:59:00</td>\n    </tr>\n    <tr>\n      <th>4</th>\n      <td>5</td>\n      <td>60.000000</td>\n      <td>False</td>\n      <td>2002-01-02 16:05:00</td>\n    </tr>\n    <tr>\n      <th>...</th>\n      <td>...</td>\n      <td>...</td>\n      <td>...</td>\n      <td>...</td>\n    </tr>\n    <tr>\n      <th>3576981</th>\n      <td>1973</td>\n      <td>17.469999</td>\n      <td>False</td>\n      <td>2020-02-27 08:34:00</td>\n    </tr>\n    <tr>\n      <th>3576982</th>\n      <td>1973</td>\n      <td>17.320000</td>\n      <td>False</td>\n      <td>2020-02-27 09:19:00</td>\n    </tr>\n    <tr>\n      <th>3576983</th>\n      <td>1973</td>\n      <td>18.870001</td>\n      <td>False</td>\n      <td>2020-02-28 02:37:00</td>\n    </tr>\n    <tr>\n      <th>3576984</th>\n      <td>1973</td>\n      <td>3.680000</td>\n      <td>False</td>\n      <td>2020-02-28 06:25:00</td>\n    </tr>\n    <tr>\n      <th>3576985</th>\n      <td>1973</td>\n      <td>18.790001</td>\n      <td>False</td>\n      <td>2020-02-28 20:39:00</td>\n    </tr>\n  </tbody>\n</table>\n<p>3576986 rows × 4 columns</p>\n</div>"
     },
     "execution_count": 15,
     "metadata": {},
     "output_type": "execute_result"
    }
   ],
   "source": [
    "print('test')\n",
    "print(test_data.dtypes)\n",
    "test_data"
   ],
   "metadata": {
    "collapsed": false,
    "pycharm": {
     "name": "#%%\n"
    }
   }
  },
  {
   "cell_type": "code",
   "execution_count": 16,
   "outputs": [],
   "source": [
    "exit()\n"
   ],
   "metadata": {
    "collapsed": false,
    "pycharm": {
     "name": "#%%\n"
    }
   }
  }
 ],
 "metadata": {
  "kernelspec": {
   "display_name": "Python 3",
   "language": "python",
   "name": "python3"
  },
  "language_info": {
   "codemirror_mode": {
    "name": "ipython",
    "version": 3
   },
   "file_extension": ".py",
   "mimetype": "text/x-python",
   "name": "python",
   "nbconvert_exporter": "python",
   "pygments_lexer": "ipython3",
   "version": "3.6.9"
  }
 },
 "nbformat": 4,
 "nbformat_minor": 1
}