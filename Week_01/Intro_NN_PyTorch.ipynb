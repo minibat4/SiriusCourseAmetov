{
 "cells": [
  {
   "cell_type": "markdown",
   "metadata": {},
   "source": [
    "# Простейшие нейронные сети на PyTorch\n",
    "\n",
    "\n",
    "Фрэймворком для обучения нейросеток на нашем курсе будет PyTorch. PyTorch стал очень популярным благодаря интуитивно понятной парадигме программирования нейронных сетей, основанной на динамическом графе. Не так давно PyTorch создал свою экосистему https://pytorch.org/ecosystem/, которая содержит в себе библиотеки, решающие практически всевозможные задачи машинного обучения. \n",
    "\n",
    "Чтобы установить библиотеку PyTorch, отправляйтесь в консоль и пропишите \n",
    "\n",
    "```\n",
    "Для Windows без GPU\n",
    "pip install torch==1.6.0+cpu torchvision==0.7.0+cpu -f https://download.pytorch.org/whl/torch_stable.html\n",
    "\n",
    "Для Windows c GPU\n",
    "pip install torch==1.6.0+cu101 torchvision==0.7.0+cu101 -f https://download.pytorch.org/whl/torch_stable.html\n",
    "\n",
    "Для Linux без GPU\n",
    "pip install torch==1.6.0+cpu torchvision==0.7.0+cpu -f https://download.pytorch.org/whl/torch_stable.html\n",
    "\n",
    "Для Linux c GPU\n",
    "pip install torch==1.6.0+cu101 torchvision==0.7.0+cu101 -f https://download.pytorch.org/whl/torch_stable.html\n",
    "\n",
    "Для Mac\n",
    "pip install torch torchvision\n",
    "\n",
    "pip install pytorch-lightning\n",
    "```\n"
   ]
  },
  {
   "cell_type": "code",
   "execution_count": 44,
   "metadata": {},
   "outputs": [],
   "source": [
    "import warnings\n",
    "warnings.filterwarnings(\"ignore\")"
   ]
  },
  {
   "cell_type": "code",
   "execution_count": 45,
   "metadata": {},
   "outputs": [
    {
     "name": "stdout",
     "output_type": "stream",
     "text": [
      "1.4.0\n"
     ]
    }
   ],
   "source": [
    "# Подгружаем pytorch \n",
    "import torch\n",
    "\n",
    "print(torch.__version__)"
   ]
  },
  {
   "cell_type": "code",
   "execution_count": 46,
   "metadata": {},
   "outputs": [],
   "source": [
    "# Подгрузим ещё немного пакетов :) \n",
    "import numpy as np\n",
    "import pandas as pd\n",
    "\n",
    "import seaborn as sns\n",
    "import matplotlib.pyplot as plt\n",
    "plt.style.use('ggplot')\n",
    "\n",
    "from sklearn.model_selection import train_test_split\n",
    "from sklearn.metrics import accuracy_score, balanced_accuracy_score\n",
    "\n",
    "%matplotlib inline"
   ]
  },
  {
   "cell_type": "markdown",
   "metadata": {},
   "source": [
    "## 1. О данных и бэйзлайнах\n",
    "\n",
    "Наша главная цель - познакомиться с процессом создания простой нейронной сети и ее обучения.\n",
    "\n",
    "__Делать всё это мы будем на животных.__ Ежегодно около 7.6 миллионов бедных животных в США оказываются в приютах. Часть из них находит себе новую семью, часть возвращается к старому (бывает, что питомец потерялся и его нашли на улице), а часть погибает. Ужегодно усыпляется около 2.7 млн. собак и кошек.  \n",
    "\n",
    "Используя датасет с входной информацией (цвет, пол, возраст и т.п.) из одного из приютов, мы попытаемся спрогнозировать что произойдёт с новыми животными, которые попадут в этот приют. Данные, используемые в тетрадке уже были предварительно обработаны и приведены в удобную для построения моделей форму. "
   ]
  },
  {
   "cell_type": "code",
   "execution_count": 47,
   "metadata": {},
   "outputs": [
    {
     "name": "stdout",
     "output_type": "stream",
     "text": [
      "(26729, 37)\n"
     ]
    },
    {
     "data": {
      "text/plain": "   IsDog    Age  HasName  NameLength  NameFreq  MixColor  ColorFreqAsIs  \\\n0      1  365.0        1           7  0.000157         1       0.032919   \n1      0  365.0        1           5  0.000655         0       0.008092   \n2      1  730.0        1           6  0.000052         1       0.026293   \n3      0   21.0        0           7  0.285871         0       0.000471   \n4      1  730.0        0           7  0.285871         0       0.023831   \n\n   ColorFreqBase  TabbyColor  MixBreed  ...  SexStatus_Flawed  \\\n0       0.463624           0         1  ...                 1   \n1       0.015005           1         1  ...                 1   \n2       0.357521           0         1  ...                 1   \n3       0.058418           0         1  ...                 0   \n4       0.075353           0         0  ...                 1   \n\n   SexStatus_Intact  SexStatus_Unknown  Weekday_0  Weekday_1  Weekday_2  \\\n0                 0                  0          0          0          1   \n1                 0                  0          0          0          0   \n2                 0                  0          0          0          0   \n3                 1                  0          0          0          0   \n4                 0                  0          0          0          0   \n\n   Weekday_3  Weekday_4  Weekday_5  Weekday_6  \n0          0          0          0          0  \n1          0          0          0          1  \n2          0          0          1          0  \n3          0          1          0          0  \n4          0          1          0          0  \n\n[5 rows x 37 columns]",
      "text/html": "<div>\n<style scoped>\n    .dataframe tbody tr th:only-of-type {\n        vertical-align: middle;\n    }\n\n    .dataframe tbody tr th {\n        vertical-align: top;\n    }\n\n    .dataframe thead th {\n        text-align: right;\n    }\n</style>\n<table border=\"1\" class=\"dataframe\">\n  <thead>\n    <tr style=\"text-align: right;\">\n      <th></th>\n      <th>IsDog</th>\n      <th>Age</th>\n      <th>HasName</th>\n      <th>NameLength</th>\n      <th>NameFreq</th>\n      <th>MixColor</th>\n      <th>ColorFreqAsIs</th>\n      <th>ColorFreqBase</th>\n      <th>TabbyColor</th>\n      <th>MixBreed</th>\n      <th>...</th>\n      <th>SexStatus_Flawed</th>\n      <th>SexStatus_Intact</th>\n      <th>SexStatus_Unknown</th>\n      <th>Weekday_0</th>\n      <th>Weekday_1</th>\n      <th>Weekday_2</th>\n      <th>Weekday_3</th>\n      <th>Weekday_4</th>\n      <th>Weekday_5</th>\n      <th>Weekday_6</th>\n    </tr>\n  </thead>\n  <tbody>\n    <tr>\n      <th>0</th>\n      <td>1</td>\n      <td>365.0</td>\n      <td>1</td>\n      <td>7</td>\n      <td>0.000157</td>\n      <td>1</td>\n      <td>0.032919</td>\n      <td>0.463624</td>\n      <td>0</td>\n      <td>1</td>\n      <td>...</td>\n      <td>1</td>\n      <td>0</td>\n      <td>0</td>\n      <td>0</td>\n      <td>0</td>\n      <td>1</td>\n      <td>0</td>\n      <td>0</td>\n      <td>0</td>\n      <td>0</td>\n    </tr>\n    <tr>\n      <th>1</th>\n      <td>0</td>\n      <td>365.0</td>\n      <td>1</td>\n      <td>5</td>\n      <td>0.000655</td>\n      <td>0</td>\n      <td>0.008092</td>\n      <td>0.015005</td>\n      <td>1</td>\n      <td>1</td>\n      <td>...</td>\n      <td>1</td>\n      <td>0</td>\n      <td>0</td>\n      <td>0</td>\n      <td>0</td>\n      <td>0</td>\n      <td>0</td>\n      <td>0</td>\n      <td>0</td>\n      <td>1</td>\n    </tr>\n    <tr>\n      <th>2</th>\n      <td>1</td>\n      <td>730.0</td>\n      <td>1</td>\n      <td>6</td>\n      <td>0.000052</td>\n      <td>1</td>\n      <td>0.026293</td>\n      <td>0.357521</td>\n      <td>0</td>\n      <td>1</td>\n      <td>...</td>\n      <td>1</td>\n      <td>0</td>\n      <td>0</td>\n      <td>0</td>\n      <td>0</td>\n      <td>0</td>\n      <td>0</td>\n      <td>0</td>\n      <td>1</td>\n      <td>0</td>\n    </tr>\n    <tr>\n      <th>3</th>\n      <td>0</td>\n      <td>21.0</td>\n      <td>0</td>\n      <td>7</td>\n      <td>0.285871</td>\n      <td>0</td>\n      <td>0.000471</td>\n      <td>0.058418</td>\n      <td>0</td>\n      <td>1</td>\n      <td>...</td>\n      <td>0</td>\n      <td>1</td>\n      <td>0</td>\n      <td>0</td>\n      <td>0</td>\n      <td>0</td>\n      <td>0</td>\n      <td>1</td>\n      <td>0</td>\n      <td>0</td>\n    </tr>\n    <tr>\n      <th>4</th>\n      <td>1</td>\n      <td>730.0</td>\n      <td>0</td>\n      <td>7</td>\n      <td>0.285871</td>\n      <td>0</td>\n      <td>0.023831</td>\n      <td>0.075353</td>\n      <td>0</td>\n      <td>0</td>\n      <td>...</td>\n      <td>1</td>\n      <td>0</td>\n      <td>0</td>\n      <td>0</td>\n      <td>0</td>\n      <td>0</td>\n      <td>0</td>\n      <td>1</td>\n      <td>0</td>\n      <td>0</td>\n    </tr>\n  </tbody>\n</table>\n<p>5 rows × 37 columns</p>\n</div>"
     },
     "execution_count": 47,
     "metadata": {},
     "output_type": "execute_result"
    }
   ],
   "source": [
    "X = pd.read_csv('./data/X_cat.csv', sep = '\\t', index_col=0)\n",
    "target = pd.read_csv('./data/y_cat.csv', sep = '\\t', index_col=0, names=['status'])\n",
    "\n",
    "print(X.shape)\n",
    "X.head()"
   ]
  },
  {
   "cell_type": "markdown",
   "metadata": {},
   "source": [
    "В датасете находится около 27 тысяч наблюдений и 39 регрессоров. Посмотрим на то как выглядит распределение того, что произошло со зверятами по особям."
   ]
  },
  {
   "cell_type": "code",
   "execution_count": 48,
   "metadata": {},
   "outputs": [
    {
     "data": {
      "text/plain": "Adoption           10769\nTransfer            9422\nReturn_to_owner     4786\nEuthanasia          1555\nDied                 197\nName: status, dtype: int64"
     },
     "execution_count": 48,
     "metadata": {},
     "output_type": "execute_result"
    }
   ],
   "source": [
    "target.status.value_counts()"
   ]
  },
  {
   "cell_type": "markdown",
   "metadata": {},
   "source": [
    "Видим, что классы несбалансированы. Попробуем оставит четыре класса и объединить класс умерших животных с классом животных, которых усыпили. "
   ]
  },
  {
   "cell_type": "code",
   "execution_count": 49,
   "metadata": {},
   "outputs": [],
   "source": [
    "target = target.iloc[:, :]\n",
    "target[target == 'Died'] = 'Euthanasia'"
   ]
  },
  {
   "cell_type": "markdown",
   "metadata": {},
   "source": [
    "Закодируем классы."
   ]
  },
  {
   "cell_type": "code",
   "execution_count": 50,
   "metadata": {},
   "outputs": [
    {
     "data": {
      "text/plain": "array([2, 1, 0, ..., 0, 3, 3])"
     },
     "execution_count": 50,
     "metadata": {},
     "output_type": "execute_result"
    }
   ],
   "source": [
    "from sklearn.preprocessing import LabelEncoder\n",
    "le = LabelEncoder()\n",
    "y = le.fit_transform(target)\n",
    "y"
   ]
  },
  {
   "cell_type": "code",
   "execution_count": 51,
   "metadata": {},
   "outputs": [
    {
     "data": {
      "text/plain": "(26729, 37)"
     },
     "execution_count": 51,
     "metadata": {},
     "output_type": "execute_result"
    }
   ],
   "source": [
    "X.shape"
   ]
  },
  {
   "cell_type": "markdown",
   "metadata": {},
   "source": [
    "Разобьём выборку на тренировочную и тестовую."
   ]
  },
  {
   "cell_type": "code",
   "execution_count": 52,
   "metadata": {},
   "outputs": [
    {
     "name": "stdout",
     "output_type": "stream",
     "text": [
      "Train examples & labels (17106, 37) (17106,)\n",
      "Valid examples & labels (4277, 37) (4277,)\n",
      "Test  examples & labels (5346, 37) (5346,)\n"
     ]
    }
   ],
   "source": [
    "# Разобьем выборку на трэйн/тест\n",
    "# Comment 1. Using random state to fix results.\n",
    "# Comment 2. Split into train/valid/test sets and select the best algorithm on valid.\n",
    "# Comment 3. This selection does not change the size of test set.\n",
    "X_train, X_test, y_train, y_test = train_test_split(X, y, test_size=0.2, stratify=y, random_state=42)\n",
    "X_train, X_valid, y_train, y_valid = train_test_split(X_train, y_train, test_size=0.2, random_state=24)\n",
    "\n",
    "print('Train examples & labels', X_train.shape, y_train.shape)\n",
    "print('Valid examples & labels', X_valid.shape, y_valid.shape)\n",
    "print('Test  examples & labels', X_test.shape, y_test.shape)"
   ]
  },
  {
   "cell_type": "code",
   "execution_count": 53,
   "outputs": [],
   "source": [
    "# Check the data structure\n",
    "\n",
    "from sklearn.preprocessing import StandardScaler\n",
    "scaler = StandardScaler()\n",
    "\n",
    "# Note. Choosing optimal parameters is performed on a train dataset\n",
    "# Note. Division is set to be the same in order to compare results\n",
    "X_train = scaler.fit_transform(X_train)\n",
    "X_valid = scaler.transform(X_valid)\n",
    "X_test = scaler.transform(X_test)"
   ],
   "metadata": {
    "collapsed": false,
    "pycharm": {
     "name": "#%%\n"
    }
   }
  },
  {
   "cell_type": "markdown",
   "metadata": {},
   "source": [
    "Прежде, чем учить 228-слойных монстров, давайте построим какие-нибудь простые прогнозы, чтобы было с чем сравнить. Давайте построи наивный прогноз, а также обучим линейную регрессию и случайный лес.\n",
    "\n",
    "### Константный прогноз\n",
    "\n",
    "Построим константный прогноз, чтобы было с чем сравнивать и прогноз по какой-нибудь модели. "
   ]
  },
  {
   "cell_type": "code",
   "execution_count": 54,
   "metadata": {},
   "outputs": [
    {
     "data": {
      "text/plain": "array([0.40091196, 0.06588332, 0.17946919, 0.35373553])"
     },
     "execution_count": 54,
     "metadata": {},
     "output_type": "execute_result"
    }
   ],
   "source": [
    "from sklearn.metrics import log_loss\n",
    "\n",
    "# Just probabilities\n",
    "probs = np.array(pd.Series(y_train).value_counts(normalize=True).sort_index().tolist())\n",
    "probs"
   ]
  },
  {
   "cell_type": "code",
   "execution_count": 55,
   "metadata": {},
   "outputs": [
    {
     "data": {
      "text/plain": "1.216254178331504"
     },
     "execution_count": 55,
     "metadata": {},
     "output_type": "execute_result"
    }
   ],
   "source": [
    "log_loss(y_valid, np.tile(probs, X_valid.shape[0]).reshape(X_valid.shape[0], 4))"
   ]
  },
  {
   "cell_type": "markdown",
   "metadata": {},
   "source": [
    "### Логистическая регрессия"
   ]
  },
  {
   "cell_type": "code",
   "execution_count": 56,
   "metadata": {},
   "outputs": [
    {
     "data": {
      "text/plain": "\"\\nfrom sklearn.linear_model import LogisticRegression\\n\\nlogreg = LogisticRegression(multi_class='multinomial', class_weight='balanced',\\n                             warm_start=True, max_iter=1000, C=0.75)\\n\\nlogreg.fit(X_train, y_train)\\nprint(log_loss(y_valid, logreg.predict_proba(X_valid)))\\n\\nlogreg.predict_proba(X_valid) # 4 колонки, по одной на каждый класс\\nlogreg.predict(X_valid)\\n\\npredict_logit_train =  logreg.predict(X_train)\\npredict_logit_valid =  logreg.predict(X_valid)\\n\\npredict_log_proba_train = logreg.predict_proba(X_train)\\npredict_log_proba_valid = logreg.predict_proba(X_valid)\\n\\n# Loss\\nprint('Final loss (train)', log_loss(y_true=y_train, y_pred=predict_log_proba_train))\\nprint('Final loss (valid)', log_loss(y_true=y_valid, y_pred=predict_log_proba_valid))\\n# Straight\\nprint('Accuracy (train)', accuracy_score(y_train, predict_logit_train))\\nprint('Accuracy (valid)', accuracy_score(y_valid, predict_logit_valid))\\n# Balanced\\nprint('Balanced accuracy (train)', balanced_accuracy_score(y_train, predict_logit_train))\\nprint('Balanced accuracy (valid)', balanced_accuracy_score(y_valid, predict_logit_valid))\\n\""
     },
     "execution_count": 56,
     "metadata": {},
     "output_type": "execute_result"
    }
   ],
   "source": [
    "\"\"\"\n",
    "from sklearn.linear_model import LogisticRegression\n",
    "\n",
    "logreg = LogisticRegression(multi_class='multinomial', class_weight='balanced',\n",
    "                             warm_start=True, max_iter=1000, C=0.75)\n",
    "\n",
    "logreg.fit(X_train, y_train)\n",
    "print(log_loss(y_valid, logreg.predict_proba(X_valid)))\n",
    "\n",
    "logreg.predict_proba(X_valid) # 4 колонки, по одной на каждый класс\n",
    "logreg.predict(X_valid)\n",
    "\n",
    "predict_logit_train =  logreg.predict(X_train)\n",
    "predict_logit_valid =  logreg.predict(X_valid)\n",
    "\n",
    "predict_log_proba_train = logreg.predict_proba(X_train)\n",
    "predict_log_proba_valid = logreg.predict_proba(X_valid)\n",
    "\n",
    "# Loss\n",
    "print('Final loss (train)', log_loss(y_true=y_train, y_pred=predict_log_proba_train))\n",
    "print('Final loss (valid)', log_loss(y_true=y_valid, y_pred=predict_log_proba_valid))\n",
    "# Straight\n",
    "print('Accuracy (train)', accuracy_score(y_train, predict_logit_train))\n",
    "print('Accuracy (valid)', accuracy_score(y_valid, predict_logit_valid))\n",
    "# Balanced\n",
    "print('Balanced accuracy (train)', balanced_accuracy_score(y_train, predict_logit_train))\n",
    "print('Balanced accuracy (valid)', balanced_accuracy_score(y_valid, predict_logit_valid))\n",
    "\"\"\""
   ]
  },
  {
   "cell_type": "markdown",
   "metadata": {},
   "source": [
    "### Случайный лес "
   ]
  },
  {
   "cell_type": "code",
   "execution_count": 57,
   "metadata": {
    "scrolled": true
   },
   "outputs": [
    {
     "data": {
      "text/plain": "\"\\nfrom sklearn.ensemble import RandomForestClassifier\\n\\nrf = RandomForestClassifier(n_estimators=1000, n_jobs=4, min_samples_split=10,\\n                            random_state=8, warm_start=True, class_weight='balanced')\\nrf.fit(X_train, y_train)\\n\\npredict_logit_train =  rf.predict(X_train)\\npredict_logit_valid =  rf.predict(X_valid)\\n\\npredict_log_proba_train = rf.predict_proba(X_train)\\npredict_log_proba_valid = rf.predict_proba(X_valid)\\n\\n# Loss\\nprint('Final loss (train)', log_loss(y_true=y_train, y_pred=predict_log_proba_train))\\nprint('Final loss (valid)', log_loss(y_true=y_valid, y_pred=predict_log_proba_valid))\\n# Straight\\nprint('Accuracy (train)', accuracy_score(y_train, predict_logit_train))\\nprint('Accuracy (valid)', accuracy_score(y_valid, predict_logit_valid))\\n# Balanced\\nprint('Balanced accuracy (train)', balanced_accuracy_score(y_train, predict_logit_train))\\nprint('Balanced accuracy (valid)', balanced_accuracy_score(y_valid, predict_logit_valid))\\n\""
     },
     "execution_count": 57,
     "metadata": {},
     "output_type": "execute_result"
    }
   ],
   "source": [
    "\"\"\"\n",
    "from sklearn.ensemble import RandomForestClassifier\n",
    "\n",
    "rf = RandomForestClassifier(n_estimators=1000, n_jobs=4, min_samples_split=10,\n",
    "                            random_state=8, warm_start=True, class_weight='balanced')\n",
    "rf.fit(X_train, y_train)\n",
    "\n",
    "predict_logit_train =  rf.predict(X_train)\n",
    "predict_logit_valid =  rf.predict(X_valid)\n",
    "\n",
    "predict_log_proba_train = rf.predict_proba(X_train)\n",
    "predict_log_proba_valid = rf.predict_proba(X_valid)\n",
    "\n",
    "# Loss\n",
    "print('Final loss (train)', log_loss(y_true=y_train, y_pred=predict_log_proba_train))\n",
    "print('Final loss (valid)', log_loss(y_true=y_valid, y_pred=predict_log_proba_valid))\n",
    "# Straight\n",
    "print('Accuracy (train)', accuracy_score(y_train, predict_logit_train))\n",
    "print('Accuracy (valid)', accuracy_score(y_valid, predict_logit_valid))\n",
    "# Balanced\n",
    "print('Balanced accuracy (train)', balanced_accuracy_score(y_train, predict_logit_train))\n",
    "print('Balanced accuracy (valid)', balanced_accuracy_score(y_valid, predict_logit_valid))\n",
    "\"\"\""
   ]
  },
  {
   "cell_type": "markdown",
   "metadata": {},
   "source": [
    "Неплохой результат. Попробуем улучшить его с помощью нейросеток. "
   ]
  },
  {
   "cell_type": "markdown",
   "metadata": {},
   "source": [
    "## 2. Собираем свою нейросеть"
   ]
  },
  {
   "cell_type": "code",
   "execution_count": 58,
   "metadata": {},
   "outputs": [],
   "source": [
    "INPUT_SIZE = 37\n",
    "HIDDEN_SIZE = 64\n",
    "OUTPUT_SIZE = 4\n",
    "LEARNING_RATE = 0.01\n",
    "EPOCHS = 20\n",
    "BATCH_SIZE = 2048"
   ]
  },
  {
   "cell_type": "markdown",
   "metadata": {},
   "source": [
    "![\"Pipeline\"](./images/Pipeline.png 'Pipeline')"
   ]
  },
  {
   "cell_type": "code",
   "execution_count": 59,
   "metadata": {},
   "outputs": [],
   "source": [
    "import torch.nn as nn # содержит функции для реалзации архитектуры нейронных сетей\n",
    "import torch.nn.functional as F # содержит различные функции активации и не только\n",
    "import torch.optim as optim\n",
    "import torch.utils.data as data_utils\n",
    "\n",
    "from pytorch_lightning.metrics import Accuracy\n"
   ]
  },
  {
   "cell_type": "markdown",
   "metadata": {},
   "source": [
    "Для того чтобы подавать данные в нейронную сеть, создадим `DataLoader`, который предоставляет гибкий API для работы с входными данными."
   ]
  },
  {
   "cell_type": "markdown",
   "metadata": {},
   "source": [
    "Создание __DataLoader__ для обучения сети"
   ]
  },
  {
   "cell_type": "code",
   "execution_count": 60,
   "metadata": {},
   "outputs": [],
   "source": [
    "def create_data_loader(X_train, y_train, X_valid, y_valid, X_test, y_test):\n",
    "    # To omit errors for Long, convert the data here\n",
    "    train_tensor = data_utils.TensorDataset(torch.tensor(X_train.astype(np.float32)),\n",
    "                                            torch.tensor(y_train).long())\n",
    "    train_loader = data_utils.DataLoader(dataset=train_tensor,\n",
    "                                         batch_size=BATCH_SIZE,\n",
    "                                         shuffle=True, num_workers=4, pin_memory=True)\n",
    "\n",
    "    valid_tensor = data_utils.TensorDataset(torch.tensor(X_valid.astype(np.float32)),\n",
    "                                            torch.tensor(y_valid).long())\n",
    "    valid_loader = data_utils.DataLoader(dataset=valid_tensor,\n",
    "                                            batch_size=BATCH_SIZE,\n",
    "                                            shuffle=False, num_workers=4, pin_memory=True)\n",
    "\n",
    "    test_tensor = data_utils.TensorDataset(torch.tensor(X_test.astype(np.float32)),\n",
    "                                           torch.tensor(y_test).long())\n",
    "    test_loader = data_utils.DataLoader(dataset=test_tensor,\n",
    "                                        batch_size=BATCH_SIZE,\n",
    "                                        shuffle=False, num_workers=4, pin_memory=True)\n",
    "    return train_loader, valid_loader, test_loader"
   ]
  },
  {
   "cell_type": "code",
   "execution_count": 61,
   "metadata": {},
   "outputs": [],
   "source": [
    "train_loader, valid_loader, test_loader = create_data_loader(X_train, y_train, X_valid, y_valid, X_test, y_test)"
   ]
  },
  {
   "cell_type": "markdown",
   "metadata": {},
   "source": [
    "__Архитектура модели__"
   ]
  },
  {
   "cell_type": "markdown",
   "metadata": {},
   "source": [
    "Архитектуру нейронной сети в PyTorch можно описать несколькими способами, в дальнейшем мы рассмотрим их более подробно. Сейчас предлагается сделать это используя `Sequential`.\n",
    "`Sequential` -- это последовательный способ объявления каждой компоненты архитектуры нейронной сети."
   ]
  },
  {
   "cell_type": "code",
   "execution_count": 62,
   "metadata": {},
   "outputs": [],
   "source": [
    "def build_model():\n",
    "    model = nn.Sequential(  \n",
    "        # Добавляем в нашу модель первый слой из 25 нейронов\n",
    "        nn.Linear(in_features=INPUT_SIZE, out_features=HIDDEN_SIZE),\n",
    "        nn.BatchNorm1d(num_features=HIDDEN_SIZE, momentum=0.9, affine=True, track_running_stats=True),\n",
    "        # Change Sigmoid to ReLU\n",
    "        nn.ReLU(),\n",
    "\n",
    "        # Добавляем ещё один слой из 25 нейронов\n",
    "        nn.Linear(in_features=HIDDEN_SIZE, out_features=HIDDEN_SIZE),\n",
    "        nn.BatchNorm1d(num_features=HIDDEN_SIZE, momentum=0.9, affine=True, track_running_stats=True),\n",
    "        # Change Sigmoid to ReLU\n",
    "        nn.ReLU(),\n",
    "\n",
    "        # Выходной вектор на количество классов, получаем с помощью такого же линейного преобразования,\n",
    "        # как и предыдущие слои, но уже на нужное количество выходных нейронов (т.е. классов)\n",
    "        nn.Linear(in_features=HIDDEN_SIZE, out_features=OUTPUT_SIZE),\n",
    "        nn.Softmax()\n",
    "    )\n",
    "\n",
    "    return model"
   ]
  },
  {
   "cell_type": "markdown",
   "metadata": {},
   "source": [
    "Функция `Linear` представляет собой полносвязный слой, где присутствуют обучаемая матрица и обучаемый баес."
   ]
  },
  {
   "cell_type": "markdown",
   "metadata": {},
   "source": [
    "![\"FC layer\"](./images/FClayer.png 'FC layer')"
   ]
  },
  {
   "cell_type": "code",
   "execution_count": 63,
   "metadata": {},
   "outputs": [],
   "source": [
    "model = build_model()\n",
    "model = model.to(device='cuda:0')"
   ]
  },
  {
   "cell_type": "code",
   "execution_count": 64,
   "metadata": {},
   "outputs": [
    {
     "name": "stdout",
     "output_type": "stream",
     "text": [
      "Sequential(\n",
      "  (0): Linear(in_features=37, out_features=64, bias=True)\n",
      "  (1): BatchNorm1d(64, eps=1e-05, momentum=0.9, affine=True, track_running_stats=True)\n",
      "  (2): ReLU()\n",
      "  (3): Linear(in_features=64, out_features=64, bias=True)\n",
      "  (4): BatchNorm1d(64, eps=1e-05, momentum=0.9, affine=True, track_running_stats=True)\n",
      "  (5): ReLU()\n",
      "  (6): Linear(in_features=64, out_features=4, bias=True)\n",
      "  (7): Softmax(dim=None)\n",
      ")\n"
     ]
    }
   ],
   "source": [
    "print(model)"
   ]
  },
  {
   "cell_type": "markdown",
   "metadata": {},
   "source": [
    "На лекции была представлена возможная архитектура сети для задачи классификации. Сейчас мы тоже собрали свою сеть с одним скрытым слоем."
   ]
  },
  {
   "cell_type": "markdown",
   "metadata": {},
   "source": [
    "![\"Net Arch\"](./images/MLP2.jpg 'Network Architecture')"
   ]
  },
  {
   "cell_type": "markdown",
   "metadata": {},
   "source": [
    "Обратите внимание, что последняя функция в в архитектуре сети -- это `Softmax`. Напомним, что `Softamx` используется для задачи классификации, чтобы получить значение увернности сети по каждому классу. Получается вектор на заданное количество классов, где наибольшее значение в какой-либо координате говорит о том, что сеть считает данный класс наиболее подходящим для данного наблюдения."
   ]
  },
  {
   "cell_type": "markdown",
   "metadata": {},
   "source": [
    "![\"Softmax\"](./images/Softmax.png 'Softmax')"
   ]
  },
  {
   "cell_type": "markdown",
   "metadata": {},
   "source": [
    "Отлично! Только что мы собрали свою первую нейросеть со скрытым слоем. Осталось ее обучить."
   ]
  },
  {
   "cell_type": "markdown",
   "metadata": {},
   "source": [
    "__Обучение модели__"
   ]
  },
  {
   "cell_type": "markdown",
   "metadata": {},
   "source": [
    "Перед тем как обучать нашу нейросеть, нужно задать параметры обучения. \n",
    "- Во-первых, метод оптимизации. \n",
    "- Во-вторых, функцию потерь. \n",
    "- В-третьих, парочку метрик, на которые нам хотелось бы смотреть в процессе обучения.  "
   ]
  },
  {
   "cell_type": "code",
   "execution_count": 65,
   "metadata": {},
   "outputs": [],
   "source": [
    "criterion = nn.CrossEntropyLoss()\n",
    "accuracy = Accuracy()\n",
    "\n",
    "optimizer = optim.Adagrad(model.parameters(), lr=LEARNING_RATE, weight_decay=1e-3)"
   ]
  },
  {
   "cell_type": "markdown",
   "metadata": {},
   "source": [
    "Создадим массивы, куда будем складывать значение целевой функции на обучающей и валиационной выборках, а также точность."
   ]
  },
  {
   "cell_type": "markdown",
   "metadata": {},
   "source": [
    "Ниже представлен код __обучения__ сети. Нужно обратить внимание на несколько моментов:\n",
    "1. Обучение ведется в течение нескольких эпох -- что значит несколько проходов по выборке.\n",
    "2. `train_loader` позволяет итеративно проходится по выборке и на каждой итерации получать батч заранее заданного размера.\n",
    "3. На каждом шаге обнуляем градиенты `optimizer.zero_grad()`, чтобы не накапливать их, тем самым неккоректно обновлять веса.\n",
    "4. Вызывать явно `loss.backward()` для вычисления градиентов.\n",
    "5. Вызывать явно `optimizer.step()` для обновления весов.\n"
   ]
  },
  {
   "cell_type": "code",
   "execution_count": 66,
   "metadata": {},
   "outputs": [],
   "source": [
    "device = 'cuda:0'\n",
    "step = 0\n",
    "train_loss_values = []\n",
    "train_accuracy_values = []\n",
    "valid_loss_values = []\n",
    "valid_accuracy = []\n",
    "\n",
    "def run_train():\n",
    "    step = 0\n",
    "    model.to(device)\n",
    "\n",
    "    for epoch in range(EPOCHS):\n",
    "        running_loss = []\n",
    "        running_acc = []\n",
    "        model.train()\n",
    "        for features, label in train_loader:\n",
    "            features, label = features.to(device), label.to(device)\n",
    "            # Reset gradients\n",
    "            optimizer.zero_grad()\n",
    "\n",
    "            output = model(features)\n",
    "            # Calculate error and backpropagate\n",
    "            loss = criterion(output, label)\n",
    "            loss.backward()\n",
    "            acc = accuracy(output, label).item()\n",
    "\n",
    "            # Update weights with gradients\n",
    "            optimizer.step()\n",
    "\n",
    "            running_loss.append(loss.item())\n",
    "            running_acc.append(acc)\n",
    "\n",
    "            step += 1\n",
    "\n",
    "        train_loss_values.append(np.mean(running_loss))\n",
    "        train_accuracy_values.append(np.mean(running_acc))\n",
    "        if epoch % 20 == 0:\n",
    "            print('EPOCH %d : train_loss: %f train_acc: %f' % (epoch, train_loss_values[-1], train_accuracy_values[-1]))\n",
    "\n",
    "        # Run validation\n",
    "        model.eval()\n",
    "        # Calculate error and backpropagate\n",
    "        with torch.no_grad():\n",
    "            features = torch.tensor(X_valid.astype(np.float32)).to(device)\n",
    "            labels = torch.tensor(y_valid.astype(np.int32)).to(device).long()\n",
    "            output = model(features)\n",
    "\n",
    "            loss = criterion(output, labels)\n",
    "            acc = accuracy(output, labels).item()\n",
    "\n",
    "        valid_loss_values.append(loss/len(features))\n",
    "        valid_accuracy.append(acc)\n",
    "\n",
    "        if epoch % 5 == 0:\n",
    "            print('EPOCH %d : valid_loss: %f valid_acc: %f' % (epoch, valid_loss_values[-1], valid_accuracy[-1]))\n",
    "        \n",
    "    return train_loss_values, train_accuracy_values, valid_loss_values, valid_accuracy"
   ]
  },
  {
   "cell_type": "code",
   "execution_count": 67,
   "metadata": {},
   "outputs": [
    {
     "name": "stdout",
     "output_type": "stream",
     "text": [
      "EPOCH 0 : train_loss: 1.207321 train_acc: 0.570645\n",
      "EPOCH 0 : valid_loss: 0.000264 valid_acc: 0.631517\n",
      "EPOCH 5 : valid_loss: 0.000257 valid_acc: 0.638999\n",
      "EPOCH 10 : valid_loss: 0.000256 valid_acc: 0.641104\n",
      "EPOCH 15 : valid_loss: 0.000256 valid_acc: 0.642273\n"
     ]
    }
   ],
   "source": [
    "# Change to a real valid\n",
    "train_loss_values, train_accuracy_values, valid_loss_values, valid_accuracy = \\\n",
    "    run_train()"
   ]
  },
  {
   "cell_type": "markdown",
   "metadata": {},
   "source": [
    " Посмотрим на динамику ошибки и значение точности нашей модели во времени."
   ]
  },
  {
   "cell_type": "code",
   "execution_count": 68,
   "metadata": {},
   "outputs": [
    {
     "data": {
      "text/plain": "<matplotlib.legend.Legend at 0x2578b1e35f8>"
     },
     "execution_count": 68,
     "metadata": {},
     "output_type": "execute_result"
    },
    {
     "data": {
      "text/plain": "<Figure size 432x288 with 1 Axes>",
      "image/png": "[encoded data removed]"
     },
     "metadata": {
      "needs_background": "light"
     },
     "output_type": "display_data"
    }
   ],
   "source": [
    "start = 1\n",
    "plt.plot(train_loss_values[start:])\n",
    "plt.legend('Train loss')"
   ]
  },
  {
   "cell_type": "code",
   "execution_count": 69,
   "metadata": {},
   "outputs": [
    {
     "data": {
      "text/plain": "<matplotlib.legend.Legend at 0x2578335b8d0>"
     },
     "execution_count": 69,
     "metadata": {},
     "output_type": "execute_result"
    },
    {
     "data": {
      "text/plain": "<Figure size 432x288 with 1 Axes>",
      "image/png": "[encoded data removed]"
     },
     "metadata": {
      "needs_background": "light"
     },
     "output_type": "display_data"
    }
   ],
   "source": [
    "start = 1\n",
    "plt.plot(train_accuracy_values[start:])\n",
    "plt.legend('Train accuracy')"
   ]
  },
  {
   "cell_type": "code",
   "execution_count": 70,
   "metadata": {},
   "outputs": [
    {
     "data": {
      "text/plain": "<matplotlib.legend.Legend at 0x2578e984710>"
     },
     "execution_count": 70,
     "metadata": {},
     "output_type": "execute_result"
    },
    {
     "data": {
      "text/plain": "<Figure size 432x288 with 1 Axes>",
      "image/png": "[encoded data removed]"
     },
     "metadata": {
      "needs_background": "light"
     },
     "output_type": "display_data"
    }
   ],
   "source": [
    "plt.plot(valid_loss_values[start:])\n",
    "plt.legend('Validation loss')"
   ]
  },
  {
   "cell_type": "code",
   "execution_count": 71,
   "metadata": {},
   "outputs": [
    {
     "data": {
      "text/plain": "<matplotlib.legend.Legend at 0x2578cceeb38>"
     },
     "execution_count": 71,
     "metadata": {},
     "output_type": "execute_result"
    },
    {
     "data": {
      "text/plain": "<Figure size 432x288 with 1 Axes>",
      "image/png": "[encoded data removed]"
     },
     "metadata": {
      "needs_background": "light"
     },
     "output_type": "display_data"
    }
   ],
   "source": [
    "plt.plot(valid_accuracy[start:])\n",
    "plt.legend('Validation accuracy')"
   ]
  },
  {
   "cell_type": "markdown",
   "metadata": {},
   "source": [
    "Сохраним модель. Файл может иметь два расширения, как .pt, так и .pth. "
   ]
  },
  {
   "cell_type": "code",
   "execution_count": 72,
   "metadata": {},
   "outputs": [],
   "source": [
    "torch.save(model, 'simple_nn.pth')"
   ]
  },
  {
   "cell_type": "markdown",
   "metadata": {},
   "source": [
    "Теперь загрузим сохраненную модель и посмотрим на ее предсказания. Важно! Когда идет этап inference модели, то нужно явно вызвать `model.eval()`, так как в случае если есть droupout или batch norm, то они не дложны работать как в процессе обучения, иначе они продолжат обучаться. "
   ]
  },
  {
   "cell_type": "code",
   "execution_count": 73,
   "metadata": {},
   "outputs": [
    {
     "data": {
      "text/plain": "Sequential(\n  (0): Linear(in_features=37, out_features=64, bias=True)\n  (1): BatchNorm1d(64, eps=1e-05, momentum=0.9, affine=True, track_running_stats=True)\n  (2): ReLU()\n  (3): Linear(in_features=64, out_features=64, bias=True)\n  (4): BatchNorm1d(64, eps=1e-05, momentum=0.9, affine=True, track_running_stats=True)\n  (5): ReLU()\n  (6): Linear(in_features=64, out_features=4, bias=True)\n  (7): Softmax(dim=None)\n)"
     },
     "execution_count": 73,
     "metadata": {},
     "output_type": "execute_result"
    }
   ],
   "source": [
    "model = torch.load('simple_nn.pth')\n",
    "model.eval()"
   ]
  },
  {
   "cell_type": "code",
   "execution_count": 79,
   "metadata": {},
   "outputs": [
    {
     "name": "stdout",
     "output_type": "stream",
     "text": [
      "0.6479610800743103\n",
      "(5346, 4)\n",
      "[[0.992 0.    0.    0.008]\n",
      " [0.985 0.004 0.007 0.004]\n",
      " [0.18  0.007 0.011 0.802]\n",
      " ...\n",
      " [0.999 0.    0.001 0.001]\n",
      " [0.691 0.011 0.007 0.291]\n",
      " [0.999 0.    0.001 0.   ]]\n"
     ]
    }
   ],
   "source": [
    "# Выход модели (вероятность) на тестовой выборке\n",
    "with torch.no_grad():\n",
    "    test_scores = model(torch.tensor(X_test.astype(np.float32)).to(device)).cpu()\n",
    "print(accuracy(test_scores, torch.tensor(y_test.astype(np.int))).item())\n",
    "print(test_scores.numpy().shape)\n",
    "print(np.around(test_scores.numpy(), decimals=3))"
   ]
  },
  {
   "cell_type": "code",
   "execution_count": 80,
   "metadata": {},
   "outputs": [
    {
     "name": "stdout",
     "output_type": "stream",
     "text": [
      "tensor([0, 0, 3,  ..., 0, 0, 0])\n"
     ]
    }
   ],
   "source": [
    "# Предсказание классов на тестовой выборке\n",
    "with torch.no_grad():\n",
    "    test_scores = model(torch.tensor(X_test.astype(np.float32)).to(device)).cpu()\n",
    "predicted_classes = torch.argmax(test_scores, dim=1)\n",
    "print(predicted_classes)"
   ]
  },
  {
   "cell_type": "markdown",
   "metadata": {},
   "source": [
    " Если `loss` еще падает, то точность не растет. __Как думаете, с чем это может быть связано?__"
   ]
  },
  {
   "cell_type": "markdown",
   "metadata": {},
   "source": [
    "__Домашнее задание.__\n",
    "Нужно обучить нейронную сеть, точность классификация должна быть не меньше __60%__. Как это можно получить:\n",
    "1. Посмотрите на данные, характеристики.\n",
    "2. Попробуйте менять гиперпараметры сети.\n",
    "3. Обратите внимание на саму архитектуру сети.\n",
    "4. Сделайте подсчет точности на валидационной выборке не через DataLoader."
   ]
  },
  {
   "cell_type": "code",
   "execution_count": null,
   "outputs": [],
   "source": [],
   "metadata": {
    "collapsed": false,
    "pycharm": {
     "name": "#%%\n"
    }
   }
  }
 ],
 "metadata": {
  "kernelspec": {
   "display_name": "Python 3",
   "language": "python",
   "name": "python3"
  },
  "language_info": {
   "codemirror_mode": {
    "name": "ipython",
    "version": 3
   },
   "file_extension": ".py",
   "mimetype": "text/x-python",
   "name": "python",
   "nbconvert_exporter": "python",
   "pygments_lexer": "ipython3",
   "version": "3.6.6"
  }
 },
 "nbformat": 4,
 "nbformat_minor": 1
}